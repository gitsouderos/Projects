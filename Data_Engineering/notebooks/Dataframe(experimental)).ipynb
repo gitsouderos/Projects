{
 "cells": [
  {
   "cell_type": "code",
   "execution_count": 1,
   "id": "033e99af-39ed-4d9b-962e-c2a25579cde0",
   "metadata": {
    "tags": []
   },
   "outputs": [
    {
     "name": "stdout",
     "output_type": "stream",
     "text": [
      "Requirement already satisfied: better-profanity in /opt/conda/lib/python3.10/site-packages (0.7.0)\n"
     ]
    }
   ],
   "source": [
    "!pip install better-profanity"
   ]
  },
  {
   "cell_type": "code",
   "execution_count": 2,
   "id": "eda7ed4f-3002-463e-8b67-acbe0221aa94",
   "metadata": {
    "tags": []
   },
   "outputs": [],
   "source": [
    "from pyspark.sql import SparkSession, SQLContext\n",
    "from pyspark import SparkConf, SparkContext\n",
    "from pyspark.sql.functions import col\n",
    "from better_profanity import profanity\n",
    "from operator import add\n",
    "\n",
    "# spark_session = SparkSession\\\n",
    "#         .builder\\\n",
    "#         .master(\"spark://sparkmaster:7077\") \\\n",
    "#         .appName(\"test\")\\\n",
    "#         .config(\"spark.dynamicAllocation.enabled\", True)\\\n",
    "#         .config(\"spark.dynamicAllocation.shuffleTracking.enabled\",True)\\\n",
    "#         .config(\"spark.shuffle.service.enabled\", False)\\\n",
    "#         .config(\"spark.dynamicAllocation.executorIdleTimeout\",\"30s\")\\\n",
    "#         .config(\"spark.executor.cores\",2)\\\n",
    "#         .config(\"spark.driver.port\",9999)\\\n",
    "#         .config(\"spark.blockManager.port\",10005)\\\n",
    "#         .getOrCreate()\n",
    "# spark_context = spark_session.sparkContext\n",
    "\n",
    "spark = SparkSession.builder \\\n",
    "    .appName(\"MongoDB Integration\") \\\n",
    "    .master(\"spark://sparkmaster:7077\") \\\n",
    "    .config(\"spark.mongodb.read.connection.uri\", \"mongodb://mongo_db:27017/reddit.reddit_data?readPreference=primaryPreferred\") \\\n",
    "    .config(\"spark.mongodb.input.uri\", \"mongodb://mongo_db:27017/reddit.reddit_data\") \\\n",
    "    .config('spark.jars.packages', 'org.mongodb.spark:mongo-spark-connector_2.12:3.0.0') \\\n",
    "    .config(\"spark.dynamicAllocation.enabled\", True)\\\n",
    "    .config(\"spark.dynamicAllocation.shuffleTracking.enabled\",True)\\\n",
    "    .config(\"spark.shuffle.service.enabled\", False)\\\n",
    "    .config(\"spark.dynamicAllocation.executorIdleTimeout\",\"30s\")\\\n",
    "    .getOrCreate()\n",
    "\n",
    "# Load data from MongoDB\n",
    "df = spark.read.format(\"mongo\").load()"
   ]
  },
  {
   "cell_type": "code",
   "execution_count": 3,
   "id": "68451160-bb03-47ac-a61a-e2fe66ffa421",
   "metadata": {
    "tags": []
   },
   "outputs": [],
   "source": [
    "profanity.load_censor_words()"
   ]
  },
  {
   "cell_type": "code",
   "execution_count": 10,
   "id": "eb7b8dd6-4e1a-46ee-8c6e-939a87974a5a",
   "metadata": {
    "tags": []
   },
   "outputs": [],
   "source": [
    "from pyspark.sql import functions, Column\n",
    "\n",
    "df2 = df.select(col(\"subreddit\"), col(\"normalizedBody\"))\n",
    "def profanity_udf(text):\n",
    "    cleaned = profanity.censor(text)\n",
    "    return cleaned.count(\"****\") \n",
    "\n",
    "prof_udf = functions.udf(profanity_udf)\n",
    "\n",
    "df3 = df2.withColumn('pgRated', prof_udf(col('normalizedBody')))\n",
    "\n",
    "\n",
    "subreddit_count = df3.groupBy(\"subreddit\").agg({\"pgRated\": \"sum\"}).withColumnRenamed(\"sum(pgRated)\", \"total_censored\")\n",
    "final_count = subreddit_count.orderBy(subreddit_count.total_censored.desc())\n",
    "\n"
   ]
  },
  {
   "cell_type": "code",
   "execution_count": null,
   "id": "c0d5ed76-71f1-4165-a67b-af088f199faf",
   "metadata": {
    "tags": []
   },
   "outputs": [],
   "source": [
    "final_count.show(10)"
   ]
  },
  {
   "cell_type": "code",
   "execution_count": null,
   "id": "2a07316c-833b-4bb8-9044-343037d9a68f",
   "metadata": {},
   "outputs": [],
   "source": []
  }
 ],
 "metadata": {
  "kernelspec": {
   "display_name": "Python 3 (ipykernel)",
   "language": "python",
   "name": "python3"
  },
  "language_info": {
   "codemirror_mode": {
    "name": "ipython",
    "version": 3
   },
   "file_extension": ".py",
   "mimetype": "text/x-python",
   "name": "python",
   "nbconvert_exporter": "python",
   "pygments_lexer": "ipython3",
   "version": "3.10.10"
  }
 },
 "nbformat": 4,
 "nbformat_minor": 5
}
