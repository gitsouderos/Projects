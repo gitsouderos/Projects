{
 "cells": [
  {
   "cell_type": "code",
   "execution_count": 9,
   "id": "62930abf-5a77-4885-9a45-d81ef4c01495",
   "metadata": {
    "tags": []
   },
   "outputs": [
    {
     "name": "stdout",
     "output_type": "stream",
     "text": [
      "Requirement already satisfied: better-profanity in /opt/conda/lib/python3.10/site-packages (0.7.0)\n"
     ]
    }
   ],
   "source": [
    "!pip install better-profanity"
   ]
  },
  {
   "cell_type": "code",
   "execution_count": 10,
   "id": "cb9593cb-0394-4b52-b346-785cdedef061",
   "metadata": {
    "tags": []
   },
   "outputs": [],
   "source": [
    "from pyspark.sql import SparkSession, SQLContext\n",
    "from pyspark import SparkConf, SparkContext\n",
    "from pyspark.sql.functions import col\n",
    "from better_profanity import profanity\n",
    "from operator import add\n",
    "\n",
    "# spark_session = SparkSession\\\n",
    "#         .builder\\\n",
    "#         .master(\"spark://sparkmaster:7077\") \\\n",
    "#         .appName(\"test\")\\\n",
    "#         .config(\"spark.dynamicAllocation.enabled\", True)\\\n",
    "#         .config(\"spark.dynamicAllocation.shuffleTracking.enabled\",True)\\\n",
    "#         .config(\"spark.shuffle.service.enabled\", False)\\\n",
    "#         .config(\"spark.dynamicAllocation.executorIdleTimeout\",\"30s\")\\\n",
    "#         .config(\"spark.executor.cores\",2)\\\n",
    "#         .config(\"spark.driver.port\",9999)\\\n",
    "#         .config(\"spark.blockManager.port\",10005)\\\n",
    "#         .getOrCreate()\n",
    "# spark_context = spark_session.sparkContext\n",
    "\n",
    "spark = SparkSession.builder \\\n",
    "    .appName(\"MongoDB Integration\") \\\n",
    "    .master(\"spark://sparkmaster:7077\") \\\n",
    "    .config(\"spark.mongodb.read.connection.uri\", \"mongodb://mongo_db:27017/reddit.reddit_data?readPreference=primaryPreferred\") \\\n",
    "    .config(\"spark.mongodb.input.uri\", \"mongodb://mongo_db:27017/reddit.reddit_data\") \\\n",
    "    .config('spark.jars.packages', 'org.mongodb.spark:mongo-spark-connector_2.12:3.0.0') \\\n",
    "    .config(\"spark.dynamicAllocation.enabled\", True)\\\n",
    "    .config(\"spark.dynamicAllocation.shuffleTracking.enabled\",True)\\\n",
    "    .config(\"spark.shuffle.service.enabled\", False)\\\n",
    "    .config(\"spark.dynamicAllocation.executorIdleTimeout\",\"30s\")\\\n",
    "    .getOrCreate()\n",
    "\n",
    "spark_session = spark.sparkContext\n",
    "\n",
    "spark_session.setLogLevel(\"INFO\")\n",
    "\n"
   ]
  },
  {
   "cell_type": "code",
   "execution_count": 11,
   "id": "40b85505-34c5-4c56-a2ba-9a984b6da985",
   "metadata": {
    "tags": []
   },
   "outputs": [],
   "source": [
    "# Load data from MongoDB\n",
    "df = spark.read.format(\"mongo\").option('limit', 160000).load()\n",
    "#df.printSchema()\n",
    "reddit_rdd = df.rdd\n",
    "\n",
    "profanity.load_censor_words()\n",
    "\n",
    "# reddit_rdd.count()"
   ]
  },
  {
   "cell_type": "code",
   "execution_count": 12,
   "id": "2817513c-ddc9-45fb-a8c5-ee38632c31fd",
   "metadata": {
    "tags": []
   },
   "outputs": [],
   "source": [
    "reddit_tuple = df.select(col(\"subreddit\"), col(\"normalizedBody\")).rdd\n",
    "subset_tuple = reddit_tuple.map(lambda x: (x[0], x[1]))"
   ]
  },
  {
   "cell_type": "code",
   "execution_count": 13,
   "id": "e788780b-4af1-4e11-bdae-81cdf1ce294a",
   "metadata": {
    "tags": []
   },
   "outputs": [],
   "source": [
    "\n",
    "censored_tupple = subset_tuple.map(lambda x: (x[0],profanity.censor(x[1])))\n",
    "count_of_stars = censored_tupple.map(lambda x: (x[0], x[1].count(\"****\")))"
   ]
  },
  {
   "cell_type": "code",
   "execution_count": 14,
   "id": "def172f9-f00f-4d4f-b43a-f4315b6288db",
   "metadata": {
    "tags": []
   },
   "outputs": [],
   "source": [
    "# count_of_stars_tuple = count_of_stars.map(lambda x: (x[0], x[2]))\n",
    "\n",
    "# reduced_count = count_of_stars.reduceByKey(add)\n",
    "# .sortBy(lambda x: x[1], ascending=False)"
   ]
  },
  {
   "cell_type": "code",
   "execution_count": 15,
   "id": "2097f72e-f3a0-4844-b85a-4a0963ba3786",
   "metadata": {
    "tags": []
   },
   "outputs": [
    {
     "data": {
      "text/plain": [
       "[('funny',\n",
       "  'Art is about the hardest thing to categorize in terms of good and bad. To consider one work or artist as dominate over another comes down to personal opinion. Sure some things maybe blatantly better than other works, but it ultimately lies with the individual. I personally enjoy the work of \"street artists\" (using quotations not to be sarcastic, but mainly because this is in a different category than graffiti and since my background is not in art I don\\'t know what the \"proper\" term is , if there is one), but I do see where you are coming from. CLET tends to use the same images continuously (to a point where one could say \"Is this it?\") as do most street artists (I do think this term is thrown around a lot more than it should be, I agree with you there) and it can be annoying. \\n tl;dr: Personal opinions \\'n ****. \\n'),\n",
       " ('gamingpc',\n",
       "  'In Mechwarrior Online, I have begun to use a mouse for the \"turret\" aspect of the torso twist/tilt and a Logitech G13 for other controls (  The G-13 has a little thumbstick that works well for WASD functions and has a little keyboard to cover all the other (limited) controls required for MWO.  For modern games, I guess that\\'s as close to HOTAS as they want you to get.  For a better solution, I think that with a joystick emulating mouse inputs it would be passable, but as you said:  It\\'s presently a sad day and you have to be able to edit XML files to modify joystick input triggers and it starts becoming an occupation rather than a gaming hobby.  In Mechwarrior 2, 3, & 4 I use the Steel Battalion controller and it is freaking awesome to have the three axes of torso twist, tilt, walking direction, plus a real throttle, plus real hat switches for views, plus pedals for extra speed, stopping power and jumpjet control.  Not to mention the 32 other buttons and the flip cover over the eject button.  Check this control map by Baron Von Pilsner ( and look at my original posts for links to my Fully Enclosed Mech Simulator on Mechwarrior Online\\'s forums for details. \\n TL/DR: Yes, Joysticks in modern games have apparently become passe unless you are playing a flight sim and that sucks. \\n'),\n",
       " ('RedditLaqueristas',\n",
       "  'All but one of my nails were in the ballpark of 1 1/8\" - 1 1/2\" long when my ring finger nail broke to the quick on Monday! It was the second break on the same hand in about a month, so I finally had to get compulsive and make all the nails the same length! I probably cut off more than half the length of the free edge. \\n As a side note, I used to be a  serious  nail biter all through my childhood and high school. I have had occasional relapses in my adulthood as well, but the point I\\'m trying to make is that my nail beds are  really  short, and I think my nails that short show about 1/8\" of my fingertips and look so sad! \\n TL;DR: OPI Nail Envy! \\n'),\n",
       " ('Diablo',\n",
       "  \"You are talking about the Charsi imbue, right? Or a cube upgrade?\\nIf we are talking Charsi imbue, you can only imbue WHITE items. This includes superior, but they will not neccesarily be superior after imbuing (they get random base-modifications). Bloodfist and Gorefoot are both uniques (gold), and therefore not eligible for imbuing.\\nWhen you imbue, the item level matters (the item level is hidden). The item is the same level as the monster who dropped it. That means, that the higher level the monster who dropped it, the more stats is available on that item. It is important to note that an item doesn't neccesarily use all it's stat potential. This means that the same item dropped in a1 and a2 can has the possibility of some very different outcomes.\\nAfter the imbue, the item can be as good as if the monster itself had dropped a rare (yellow) item. Imbued weapons will always turn out as rare items.\\nTo answer your question, you should just progress like you are now, fighting the hardest monsters you can. When a potential good white item appears, try to imbue that. Class specifiq items has a better chance to give +skills to your class. Circlets has the higest bonuses regarding yellow items. And you can get an extra base stat advantage by using exceoptional (nightmare) items, which will drop in a4-5 from time to time. You can check out monster levels, and item qualities (normal, exceptional, elite) on arreat summit ofc. :) \\n EDIT (forgot infoz):\\nIn cases of imbue-eligible items with base bonuses (maces, wands, staffs and class specifique items, and any other item with +skills etc.) will loose their current bonuses due to the base item reroll. They can get extra skills from the base item AND the rarity class. Say, if you imbue a staff with +1 fireball, it will reroll that base staff. It might turn out with a staff with +1 icebolt and +1 warmth, and then you add the bonuses the rarity would give you, lets say +1 icebolt and +1 fireball. Then your +1 fireball staff will have turned into a +2 icebolt +1 fireball staff. It might as well turn into any other staff allowed by it's item lvl though. \\n As far as I recall, weapon damage and defense values are not rerolled. I am not 100% positive on this though. Haven't played d2 for a looong time :P \\n TLDR: Class only items dropped from high-lvl monsters. \\n\"),\n",
       " ('apple',\n",
       "  'So you\\'re saying \"try it, I might not mind losing access to directions that follow my only available mode of transportation (public)\"? This isn\\'t a it might be ok but some people don\\'t like it issue like Siri not listening to you  well . This is removing an entire function that I use all the time. It\\'s not worth it and I won\\'t be upgrading. Especially since they still haven\\'t provided a feature that lets you roll anything back to a previous version (which just boggles my mind). If have to roll everything back using a backup of it turned out that, yes, I really can\\'t find my way through the maze of subways, busses, and trains that make up the greater NY area with a combination of 3D flyovers, luck, and  magic . \\n Tl;dr you don\\'t seem to understand what\\'s going on here. \\n')]"
      ]
     },
     "execution_count": 15,
     "metadata": {},
     "output_type": "execute_result"
    }
   ],
   "source": [
    "\n",
    "censored_tupple.take(5)"
   ]
  },
  {
   "cell_type": "code",
   "execution_count": 16,
   "id": "013967a0-8de4-426b-a8ec-e00bdf65d274",
   "metadata": {
    "tags": []
   },
   "outputs": [],
   "source": [
    "spark.stop()\n"
   ]
  },
  {
   "cell_type": "code",
   "execution_count": null,
   "id": "6ba368d4-8f0c-44a6-8b51-193c9418896e",
   "metadata": {},
   "outputs": [],
   "source": []
  }
 ],
 "metadata": {
  "kernelspec": {
   "display_name": "Python 3 (ipykernel)",
   "language": "python",
   "name": "python3"
  },
  "language_info": {
   "codemirror_mode": {
    "name": "ipython",
    "version": 3
   },
   "file_extension": ".py",
   "mimetype": "text/x-python",
   "name": "python",
   "nbconvert_exporter": "python",
   "pygments_lexer": "ipython3",
   "version": "3.10.10"
  }
 },
 "nbformat": 4,
 "nbformat_minor": 5
}
