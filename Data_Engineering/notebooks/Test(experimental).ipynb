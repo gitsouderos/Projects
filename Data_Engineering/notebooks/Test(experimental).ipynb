{
 "cells": [
  {
   "cell_type": "code",
   "execution_count": 1,
   "id": "f47efe4d-7362-4447-ba84-4e6a6833cad9",
   "metadata": {
    "scrolled": true,
    "tags": []
   },
   "outputs": [
    {
     "name": "stdout",
     "output_type": "stream",
     "text": [
      "root\n",
      " |-- _id: struct (nullable = true)\n",
      " |    |-- oid: string (nullable = true)\n",
      " |-- author: string (nullable = true)\n",
      " |-- body: string (nullable = true)\n",
      " |-- content: string (nullable = true)\n",
      " |-- content_len: integer (nullable = true)\n",
      " |-- id: string (nullable = true)\n",
      " |-- normalizedBody: string (nullable = true)\n",
      " |-- subreddit: string (nullable = true)\n",
      " |-- subreddit_id: string (nullable = true)\n",
      " |-- summary: string (nullable = true)\n",
      " |-- summary_len: integer (nullable = true)\n",
      " |-- title: string (nullable = true)\n",
      "\n"
     ]
    }
   ],
   "source": [
    "from pyspark.sql import SparkSession, SQLContext\n",
    "from pyspark import SparkConf, SparkContext\n",
    "\n",
    "# spark_session = SparkSession\\\n",
    "#         .builder\\\n",
    "#         .master(\"spark://sparkmaster:7077\") \\\n",
    "#         .appName(\"test\")\\\n",
    "#         .config(\"spark.dynamicAllocation.enabled\", True)\\\n",
    "#         .config(\"spark.dynamicAllocation.shuffleTracking.enabled\",True)\\\n",
    "#         .config(\"spark.shuffle.service.enabled\", False)\\\n",
    "#         .config(\"spark.dynamicAllocation.executorIdleTimeout\",\"30s\")\\\n",
    "#         .config(\"spark.executor.cores\",2)\\\n",
    "#         .config(\"spark.driver.port\",9999)\\\n",
    "#         .config(\"spark.blockManager.port\",10005)\\\n",
    "#         .getOrCreate()\n",
    "# spark_context = spark_session.sparkContext\n",
    "\n",
    "spark = SparkSession.builder \\\n",
    "    .appName(\"MongoDB Integration\") \\\n",
    "    .master(\"spark://sparkmaster:7077\") \\\n",
    "    .config(\"spark.mongodb.read.connection.uri\", \"mongodb://mongo_db:27017/reddit.reddit_data?readPreference=primaryPreferred\") \\\n",
    "    .config(\"spark.mongodb.input.uri\", \"mongodb://mongo_db:27017/reddit.reddit_data\") \\\n",
    "    .config('spark.jars.packages', 'org.mongodb.spark:mongo-spark-connector_2.12:3.0.0') \\\n",
    "    .config(\"spark.dynamicAllocation.enabled\", True)\\\n",
    "    .config(\"spark.dynamicAllocation.shuffleTracking.enabled\",True)\\\n",
    "    .config(\"spark.shuffle.service.enabled\", False)\\\n",
    "    .config(\"spark.dynamicAllocation.executorIdleTimeout\",\"30s\")\\\n",
    "\n",
    "    .getOrCreate()\n",
    "\n",
    "# Load data from MongoDB\n",
    "df = spark.read.format(\"mongo\").load()\n",
    "df.printSchema()\n"
   ]
  },
  {
   "cell_type": "code",
   "execution_count": 3,
   "id": "ead6f163-b5f7-40fd-99a8-9974164c259f",
   "metadata": {
    "scrolled": true
   },
   "outputs": [
    {
     "name": "stdout",
     "output_type": "stream",
     "text": [
      "+--------------------+------------------+--------------------+--------------------+-----------+-------+--------------------+--------------------+------------+--------------------+-----------+--------+\n",
      "|                 _id|            author|                body|             content|content_len|     id|      normalizedBody|           subreddit|subreddit_id|             summary|summary_len|   title|\n",
      "+--------------------+------------------+--------------------+--------------------+-----------+-------+--------------------+--------------------+------------+--------------------+-----------+--------+\n",
      "|{65e67ee9304d97fe...|           Stork13|Art is about the ...|Art is about the ...|        148|c6a9nxd|Art is about the ...|               funny|    t5_2qh33|Personal opinions...|          4|    NULL|\n",
      "|{65e67ee9304d97fe...|     NightlyReaper|In Mechwarrior On...|In Mechwarrior On...|        213|c8onqew|In Mechwarrior On...|            gamingpc|    t5_2sq2y|Yes, Joysticks in...|         19|    NULL|\n",
      "|{65e67ee9304d97fe...|beatlecreedcabaret|All but one of my...|All but one of my...|        130|c6ahuc4|All but one of my...|   RedditLaqueristas|    t5_2se5q|      OPI Nail Envy!|          3|    NULL|\n",
      "|{65e67ee9304d97fe...|    NuffZetPand0ra|You are talking a...|You are talking a...|        404|c6acxvc|You are talking a...|              Diablo|    t5_2qore|Class only items ...|          7|D2 help?|\n",
      "|{65e67ee9304d97fe...|          chrom_ed|So you're saying ...|So you're saying ...|        134|c6agxtv|So you're saying ...|               apple|    t5_2qh1f|you don't seem to...|          9|    NULL|\n",
      "|{65e67ee9304d97fe...|      nobodysdiary|I could give a sh...|I could give a sh...|        156|c6aggux|I could give a sh...|               apple|    t5_2qh1f|I don't drive lik...|         18|    NULL|\n",
      "|{65e67ee9304d97fe...|      gadzookfilms|I love this idea ...|I love this idea ...|        126|c6asb7p|I love this idea ...|RedditFilmsProduc...|    t5_2v33h|How we make money...|          9|    NULL|\n",
      "|{65e67ee9304d97fe...|      iamacannibal|Theres an entire ...|Theres an entire ...|        181|c6aveyw|Theres an entire ...|       AbandonedPorn|    t5_2sh6t|I'll try and get ...|         25|    NULL|\n",
      "|{65e67ee9304d97fe...| splagaticusxoxo97|FALSE. Evidence: ...|FALSE. Evidence: ...|        124|c6bacqq|FALSE. Evidence: ...|             atheism|    t5_2qh2p|dont fuck with re...|          6|    NULL|\n",
      "|{65e67ee9304d97fe...|           orthzar|If the number of ...|If the number of ...|         12|c6b83kp|If the number of ...|              quotes|    t5_2qhdx|                  no|          1|    NULL|\n",
      "|{65e67ee9304d97fe...|  raysofdarkmatter|I think it should...|I think it should...|        178|c69al3r|I think it should...|                math|    t5_2qh0n|Shifting seasonal...|          8|    NULL|\n",
      "|{65e67ee9304d97fe...|     Cloud_dreamer|Ask me what I thi...|Ask me what I thi...|         76|c6acx4l|Ask me what I thi...|         Borderlands|    t5_2r8cd|insults and slack...|         73|    NULL|\n",
      "|{65e67ee9304d97fe...|          phyzishy|Yeah, but most fo...|Yeah, but most fo...|         75|c6b52m8|Yeah, but most fo...|           AskReddit|    t5_2qh1i|       stupid stuff.|          2|    NULL|\n",
      "|{65e67ee9304d97fe...|          Wheelman|As an entrepreneu...|As an entrepreneu...|         78|c6b34c2|As an entrepreneu...|     personalfinance|    t5_2qstm|get a good CPA - ...|         14|    NULL|\n",
      "|{65e67ee9304d97fe...|        slagahthor|i guess the way I...|i guess the way I...|        323|c6b9gqo|i guess the way I...|             Animals|    t5_2qi0c|Dog neglected for...|          7|    NULL|\n",
      "|{65e67ee9304d97fe...|       fallsuspect|You probably won'...|You probably won'...|         79|c6bncqn|You probably won'...|           AskReddit|    t5_2qh1i|just get both of ...|         11|    NULL|\n",
      "|{65e67ee9304d97fe...|        Perservere|Didn't they lose ...|Didn't they lose ...|         86|c6bftvc|Didn't they lose ...|     leagueoflegends|    t5_2rfxx|just because you'...|         23|    NULL|\n",
      "|{65e67ee9304d97fe...|          captain0|To simply say tha...|To simply say tha...|        328|c6btcx4|To simply say tha...|              videos|    t5_2qh1e| Oppan Gangnam Style|          3|    NULL|\n",
      "|{65e67ee9304d97fe...|    Buck_Speedjunk|This picture does...|This picture does...|         18|c6c4uks|This picture does...|               trees|    t5_2r9vp|It's a half-assed...|         13|    NULL|\n",
      "|{65e67ee9304d97fe...|        FrankManic|And that is, hand...|And that is, hand...|         57|c6c7pgn|And that is, hand...|               Games|    t5_2qhwp|Play balance is f...|         13|    NULL|\n",
      "+--------------------+------------------+--------------------+--------------------+-----------+-------+--------------------+--------------------+------------+--------------------+-----------+--------+\n",
      "only showing top 20 rows\n",
      "\n"
     ]
    }
   ],
   "source": [
    "df.show()"
   ]
  },
  {
   "cell_type": "code",
   "execution_count": 2,
   "id": "a39534d4-a62e-40ce-ad5a-36c373b967f1",
   "metadata": {
    "tags": []
   },
   "outputs": [],
   "source": [
    "reddit_rdd = df.rdd"
   ]
  },
  {
   "cell_type": "code",
   "execution_count": 4,
   "id": "7c03d5d5-1ab2-4c21-80d8-7cc3dc5ff1bb",
   "metadata": {
    "scrolled": true
   },
   "outputs": [
    {
     "data": {
      "text/plain": [
       "[Row(_id=Row(oid='65e67ee9304d97fe1ebca532'), author='Stork13', body='Art is about the hardest thing to categorize in terms of good and bad. To consider one work or artist as dominate over another comes down to personal opinion. Sure some things maybe blatantly better than other works, but it ultimately lies with the individual. I personally enjoy the work of \"street artists\" (using quotations not to be sarcastic, but mainly because this is in a different category than graffiti and since my background is not in art I don\\'t know what the \"proper\" term is , if there is one), but I do see where you are coming from. CLET tends to use the same images continuously (to a point where one could say \"Is this it?\") as do most street artists (I do think this term is thrown around a lot more than it should be, I agree with you there) and it can be annoying.\\n\\ntl;dr: Personal opinions \\'n shit.', content='Art is about the hardest thing to categorize in terms of good and bad. To consider one work or artist as dominate over another comes down to personal opinion. Sure some things maybe blatantly better than other works, but it ultimately lies with the individual. I personally enjoy the work of \"street artists\" (using quotations not to be sarcastic, but mainly because this is in a different category than graffiti and since my background is not in art I don\\'t know what the \"proper\" term is , if there is one), but I do see where you are coming from. CLET tends to use the same images continuously (to a point where one could say \"Is this it?\") as do most street artists (I do think this term is thrown around a lot more than it should be, I agree with you there) and it can be annoying.', content_len=148, id='c6a9nxd', normalizedBody='Art is about the hardest thing to categorize in terms of good and bad. To consider one work or artist as dominate over another comes down to personal opinion. Sure some things maybe blatantly better than other works, but it ultimately lies with the individual. I personally enjoy the work of \"street artists\" (using quotations not to be sarcastic, but mainly because this is in a different category than graffiti and since my background is not in art I don\\'t know what the \"proper\" term is , if there is one), but I do see where you are coming from. CLET tends to use the same images continuously (to a point where one could say \"Is this it?\") as do most street artists (I do think this term is thrown around a lot more than it should be, I agree with you there) and it can be annoying. \\n tl;dr: Personal opinions \\'n shit. \\n', subreddit='funny', subreddit_id='t5_2qh33', summary=\"Personal opinions 'n shit.\", summary_len=4, title=None),\n",
       " Row(_id=Row(oid='65e67ee9304d97fe1ebca533'), author='NightlyReaper', body='In Mechwarrior Online, I have begun to use a mouse for the \"turret\" aspect of the torso twist/tilt and a Logitech G13 for other controls (  The G-13 has a little thumbstick that works well for WASD functions and has a little keyboard to cover all the other (limited) controls required for MWO.  For modern games, I guess that\\'s as close to HOTAS as they want you to get.  For a better solution, I think that with a joystick emulating mouse inputs it would be passable, but as you said:  It\\'s presently a sad day and you have to be able to edit XML files to modify joystick input triggers and it starts becoming an occupation rather than a gaming hobby.  In Mechwarrior 2, 3, &amp; 4 I use the Steel Battalion controller and it is freaking awesome to have the three axes of torso twist, tilt, walking direction, plus a real throttle, plus real hat switches for views, plus pedals for extra speed, stopping power and jumpjet control.  Not to mention the 32 other buttons and the flip cover over the eject button.  Check this control map by Baron Von Pilsner ( and look at my original posts for links to my Fully Enclosed Mech Simulator on Mechwarrior Online\\'s forums for details.  \\n\\nTL/DR: Yes, Joysticks in modern games have apparently become passe unless you are playing a flight sim and that sucks.', content='In Mechwarrior Online, I have begun to use a mouse for the \"turret\" aspect of the torso twist/tilt and a Logitech G13 for other controls (  The G-13 has a little thumbstick that works well for WASD functions and has a little keyboard to cover all the other (limited) controls required for MWO.  For modern games, I guess that\\'s as close to HOTAS as they want you to get.  For a better solution, I think that with a joystick emulating mouse inputs it would be passable, but as you said:  It\\'s presently a sad day and you have to be able to edit XML files to modify joystick input triggers and it starts becoming an occupation rather than a gaming hobby.  In Mechwarrior 2, 3, & 4 I use the Steel Battalion controller and it is freaking awesome to have the three axes of torso twist, tilt, walking direction, plus a real throttle, plus real hat switches for views, plus pedals for extra speed, stopping power and jumpjet control.  Not to mention the 32 other buttons and the flip cover over the eject button.  Check this control map by Baron Von Pilsner ( and look at my original posts for links to my Fully Enclosed Mech Simulator on Mechwarrior Online\\'s forums for details.', content_len=213, id='c8onqew', normalizedBody='In Mechwarrior Online, I have begun to use a mouse for the \"turret\" aspect of the torso twist/tilt and a Logitech G13 for other controls (  The G-13 has a little thumbstick that works well for WASD functions and has a little keyboard to cover all the other (limited) controls required for MWO.  For modern games, I guess that\\'s as close to HOTAS as they want you to get.  For a better solution, I think that with a joystick emulating mouse inputs it would be passable, but as you said:  It\\'s presently a sad day and you have to be able to edit XML files to modify joystick input triggers and it starts becoming an occupation rather than a gaming hobby.  In Mechwarrior 2, 3, & 4 I use the Steel Battalion controller and it is freaking awesome to have the three axes of torso twist, tilt, walking direction, plus a real throttle, plus real hat switches for views, plus pedals for extra speed, stopping power and jumpjet control.  Not to mention the 32 other buttons and the flip cover over the eject button.  Check this control map by Baron Von Pilsner ( and look at my original posts for links to my Fully Enclosed Mech Simulator on Mechwarrior Online\\'s forums for details. \\n TL/DR: Yes, Joysticks in modern games have apparently become passe unless you are playing a flight sim and that sucks. \\n', subreddit='gamingpc', subreddit_id='t5_2sq2y', summary='Yes, Joysticks in modern games have apparently become passe unless you are playing a flight sim and that sucks.', summary_len=19, title=None),\n",
       " Row(_id=Row(oid='65e67ee9304d97fe1ebca534'), author='beatlecreedcabaret', body='All but one of my nails were in the ballpark of 1 1/8\" - 1 1/2\" long when my ring finger nail broke to the quick on Monday! It was the second break on the same hand in about a month, so I finally had to get compulsive and make all the nails the same length! I probably cut off more than half the length of the free edge. \\n\\nAs a side note, I used to be a **serious** nail biter all through my childhood and high school. I have had occasional relapses in my adulthood as well, but the point I\\'m trying to make is that my nail beds are *really* short, and I think my nails that short show about 1/8\" of my fingertips and look so sad! \\n\\nTL;DR: OPI Nail Envy!', content='All but one of my nails were in the ballpark of 1 1/8\" - 1 1/2\" long when my ring finger nail broke to the quick on Monday! It was the second break on the same hand in about a month, so I finally had to get compulsive and make all the nails the same length! I probably cut off more than half the length of the free edge. \\n As a side note, I used to be a  serious  nail biter all through my childhood and high school. I have had occasional relapses in my adulthood as well, but the point I\\'m trying to make is that my nail beds are  really  short, and I think my nails that short show about 1/8\" of my fingertips and look so sad!', content_len=130, id='c6ahuc4', normalizedBody='All but one of my nails were in the ballpark of 1 1/8\" - 1 1/2\" long when my ring finger nail broke to the quick on Monday! It was the second break on the same hand in about a month, so I finally had to get compulsive and make all the nails the same length! I probably cut off more than half the length of the free edge. \\n As a side note, I used to be a  serious  nail biter all through my childhood and high school. I have had occasional relapses in my adulthood as well, but the point I\\'m trying to make is that my nail beds are  really  short, and I think my nails that short show about 1/8\" of my fingertips and look so sad! \\n TL;DR: OPI Nail Envy! \\n', subreddit='RedditLaqueristas', subreddit_id='t5_2se5q', summary='OPI Nail Envy!', summary_len=3, title=None),\n",
       " Row(_id=Row(oid='65e67ee9304d97fe1ebca535'), author='NuffZetPand0ra', body=\"You are talking about the Charsi imbue, right? Or a cube upgrade?\\nIf we are talking Charsi imbue, you can only imbue WHITE items. This includes superior, but they will not neccesarily be superior after imbuing (they get random base-modifications). Bloodfist and Gorefoot are both uniques (gold), and therefore not eligible for imbuing.\\nWhen you imbue, the item level matters (the item level is hidden). The item is the same level as the monster who dropped it. That means, that the higher level the monster who dropped it, the more stats is available on that item. It is important to note that an item doesn't neccesarily use all it's stat potential. This means that the same item dropped in a1 and a2 can has the possibility of some very different outcomes.\\nAfter the imbue, the item can be as good as if the monster itself had dropped a rare (yellow) item. Imbued weapons will always turn out as rare items.\\nTo answer your question, you should just progress like you are now, fighting the hardest monsters you can. When a potential good white item appears, try to imbue that. Class specifiq items has a better chance to give +skills to your class. Circlets has the higest bonuses regarding yellow items. And you can get an extra base stat advantage by using exceoptional (nightmare) items, which will drop in a4-5 from time to time. You can check out monster levels, and item qualities (normal, exceptional, elite) on arreat summit ofc. :)\\n\\n\\nEDIT (forgot infoz):\\nIn cases of imbue-eligible items with base bonuses (maces, wands, staffs and class specifique items, and any other item with +skills etc.) will loose their current bonuses due to the base item reroll. They can get extra skills from the base item AND the rarity class. Say, if you imbue a staff with +1 fireball, it will reroll that base staff. It might turn out with a staff with +1 icebolt and +1 warmth, and then you add the bonuses the rarity would give you, lets say +1 icebolt and +1 fireball. Then your +1 fireball staff will have turned into a +2 icebolt +1 fireball staff. It might as well turn into any other staff allowed by it's item lvl though.\\n\\nAs far as I recall, weapon damage and defense values are not rerolled. I am not 100% positive on this though. Haven't played d2 for a looong time :P\\n\\nTLDR: Class only items dropped from high-lvl monsters.\", content=\"You are talking about the Charsi imbue, right? Or a cube upgrade?\\nIf we are talking Charsi imbue, you can only imbue WHITE items. This includes superior, but they will not neccesarily be superior after imbuing (they get random base-modifications). Bloodfist and Gorefoot are both uniques (gold), and therefore not eligible for imbuing.\\nWhen you imbue, the item level matters (the item level is hidden). The item is the same level as the monster who dropped it. That means, that the higher level the monster who dropped it, the more stats is available on that item. It is important to note that an item doesn't neccesarily use all it's stat potential. This means that the same item dropped in a1 and a2 can has the possibility of some very different outcomes.\\nAfter the imbue, the item can be as good as if the monster itself had dropped a rare (yellow) item. Imbued weapons will always turn out as rare items.\\nTo answer your question, you should just progress like you are now, fighting the hardest monsters you can. When a potential good white item appears, try to imbue that. Class specifiq items has a better chance to give +skills to your class. Circlets has the higest bonuses regarding yellow items. And you can get an extra base stat advantage by using exceoptional (nightmare) items, which will drop in a4-5 from time to time. You can check out monster levels, and item qualities (normal, exceptional, elite) on arreat summit ofc. :) \\n EDIT (forgot infoz):\\nIn cases of imbue-eligible items with base bonuses (maces, wands, staffs and class specifique items, and any other item with +skills etc.) will loose their current bonuses due to the base item reroll. They can get extra skills from the base item AND the rarity class. Say, if you imbue a staff with +1 fireball, it will reroll that base staff. It might turn out with a staff with +1 icebolt and +1 warmth, and then you add the bonuses the rarity would give you, lets say +1 icebolt and +1 fireball. Then your +1 fireball staff will have turned into a +2 icebolt +1 fireball staff. It might as well turn into any other staff allowed by it's item lvl though. \\n As far as I recall, weapon damage and defense values are not rerolled. I am not 100% positive on this though. Haven't played d2 for a looong time :P\", content_len=404, id='c6acxvc', normalizedBody=\"You are talking about the Charsi imbue, right? Or a cube upgrade?\\nIf we are talking Charsi imbue, you can only imbue WHITE items. This includes superior, but they will not neccesarily be superior after imbuing (they get random base-modifications). Bloodfist and Gorefoot are both uniques (gold), and therefore not eligible for imbuing.\\nWhen you imbue, the item level matters (the item level is hidden). The item is the same level as the monster who dropped it. That means, that the higher level the monster who dropped it, the more stats is available on that item. It is important to note that an item doesn't neccesarily use all it's stat potential. This means that the same item dropped in a1 and a2 can has the possibility of some very different outcomes.\\nAfter the imbue, the item can be as good as if the monster itself had dropped a rare (yellow) item. Imbued weapons will always turn out as rare items.\\nTo answer your question, you should just progress like you are now, fighting the hardest monsters you can. When a potential good white item appears, try to imbue that. Class specifiq items has a better chance to give +skills to your class. Circlets has the higest bonuses regarding yellow items. And you can get an extra base stat advantage by using exceoptional (nightmare) items, which will drop in a4-5 from time to time. You can check out monster levels, and item qualities (normal, exceptional, elite) on arreat summit ofc. :) \\n EDIT (forgot infoz):\\nIn cases of imbue-eligible items with base bonuses (maces, wands, staffs and class specifique items, and any other item with +skills etc.) will loose their current bonuses due to the base item reroll. They can get extra skills from the base item AND the rarity class. Say, if you imbue a staff with +1 fireball, it will reroll that base staff. It might turn out with a staff with +1 icebolt and +1 warmth, and then you add the bonuses the rarity would give you, lets say +1 icebolt and +1 fireball. Then your +1 fireball staff will have turned into a +2 icebolt +1 fireball staff. It might as well turn into any other staff allowed by it's item lvl though. \\n As far as I recall, weapon damage and defense values are not rerolled. I am not 100% positive on this though. Haven't played d2 for a looong time :P \\n TLDR: Class only items dropped from high-lvl monsters. \\n\", subreddit='Diablo', subreddit_id='t5_2qore', summary='Class only items dropped from high-lvl monsters.', summary_len=7, title='D2 help?'),\n",
       " Row(_id=Row(oid='65e67ee9304d97fe1ebca536'), author='chrom_ed', body='So you\\'re saying \"try it, I might not mind losing access to directions that follow my only available mode of transportation (public)\"? This isn\\'t a it might be ok but some people don\\'t like it issue like Siri not listening to you *well*. This is removing an entire function that I use all the time. It\\'s not worth it and I won\\'t be upgrading. Especially since they still haven\\'t provided a feature that lets you roll anything back to a previous version (which just boggles my mind). If have to roll everything back using a backup of it turned out that, yes, I really can\\'t find my way through the maze of subways, busses, and trains that make up the greater NY area with a combination of 3D flyovers, luck, and *magic*. \\n\\nTl;dr you don\\'t seem to understand what\\'s going on here. ', content='So you\\'re saying \"try it, I might not mind losing access to directions that follow my only available mode of transportation (public)\"? This isn\\'t a it might be ok but some people don\\'t like it issue like Siri not listening to you  well . This is removing an entire function that I use all the time. It\\'s not worth it and I won\\'t be upgrading. Especially since they still haven\\'t provided a feature that lets you roll anything back to a previous version (which just boggles my mind). If have to roll everything back using a backup of it turned out that, yes, I really can\\'t find my way through the maze of subways, busses, and trains that make up the greater NY area with a combination of 3D flyovers, luck, and  magic .', content_len=134, id='c6agxtv', normalizedBody='So you\\'re saying \"try it, I might not mind losing access to directions that follow my only available mode of transportation (public)\"? This isn\\'t a it might be ok but some people don\\'t like it issue like Siri not listening to you  well . This is removing an entire function that I use all the time. It\\'s not worth it and I won\\'t be upgrading. Especially since they still haven\\'t provided a feature that lets you roll anything back to a previous version (which just boggles my mind). If have to roll everything back using a backup of it turned out that, yes, I really can\\'t find my way through the maze of subways, busses, and trains that make up the greater NY area with a combination of 3D flyovers, luck, and  magic . \\n Tl;dr you don\\'t seem to understand what\\'s going on here. \\n', subreddit='apple', subreddit_id='t5_2qh1f', summary=\"you don't seem to understand what's going on here.\", summary_len=9, title=None),\n",
       " Row(_id=Row(oid='65e67ee9304d97fe1ebca537'), author='nobodysdiary', body='I could give a shit about turn by turn directions because I never drive and the new maps doesn\\'t have ANY public transportation directions which is just complete bullshit -- especially for a company that is supposedly \"green\" conscious.\\n\\nI know Apple and others have said that you can just get a 3rd party app, but to be honest I haven\\'t found one for NYC Metro area that is as fast and complete as iOS5 Maps. It has integrated bus routes/schedules and train schedules and as someone else pointed out in another thread about this subject, you will need another 3rd party app if you go to a city other than your own, instead of easily being able to get directions as you travel. \\n\\nI would also argue that since NYC of all places has a pretty shitty selection of 3rd party options, that the available options in other smaller major cities would be significantly shittier.\\n\\n**TL;DR** - I don\\'t drive like *most* people in major cities, and need public transit directions integrated in iOS6 Maps. ', content='I could give a shit about turn by turn directions because I never drive and the new maps doesn\\'t have ANY public transportation directions which is just complete bullshit -- especially for a company that is supposedly \"green\" conscious. \\n I know Apple and others have said that you can just get a 3rd party app, but to be honest I haven\\'t found one for NYC Metro area that is as fast and complete as iOS5 Maps. It has integrated bus routes/schedules and train schedules and as someone else pointed out in another thread about this subject, you will need another 3rd party app if you go to a city other than your own, instead of easily being able to get directions as you travel. \\n I would also argue that since NYC of all places has a pretty shitty selection of 3rd party options, that the available options in other smaller major cities would be significantly shittier.', content_len=156, id='c6aggux', normalizedBody='I could give a shit about turn by turn directions because I never drive and the new maps doesn\\'t have ANY public transportation directions which is just complete bullshit -- especially for a company that is supposedly \"green\" conscious. \\n I know Apple and others have said that you can just get a 3rd party app, but to be honest I haven\\'t found one for NYC Metro area that is as fast and complete as iOS5 Maps. It has integrated bus routes/schedules and train schedules and as someone else pointed out in another thread about this subject, you will need another 3rd party app if you go to a city other than your own, instead of easily being able to get directions as you travel. \\n I would also argue that since NYC of all places has a pretty shitty selection of 3rd party options, that the available options in other smaller major cities would be significantly shittier. \\n TL;DR  - I don\\'t drive like  most  people in major cities, and need public transit directions integrated in iOS6 Maps. \\n', subreddit='apple', subreddit_id='t5_2qh1f', summary=\"I don't drive like  most  people in major cities, and need public transit directions integrated in iOS6 Maps.\", summary_len=18, title=None),\n",
       " Row(_id=Row(oid='65e67ee9304d97fe1ebca538'), author='gadzookfilms', body=\"I love this idea and most definitely want to help. I have a few concerns though. My primary concern is that of financing. Making movies isn't free as we all know. It's fine to work on one or two volunteer projects for fun and to build interest and community but somewhere down the line it must be made sustainable. Otherwise the turnover rate of artists skyrockets. \\n\\nMy secondary concern is keeping this as open, transparent, and democratic as possible. Reddit's strength is in the hive, for better or worse, and I'd hate to relegate decisions to a few of us who happen to live in LA. From the get-go this needs to be a global initiative. So yeah, getting out of that SoCal bubble is key.\\n\\nTL;DR - How we make money? How we involve everyone, yo?\", content=\"I love this idea and most definitely want to help. I have a few concerns though. My primary concern is that of financing. Making movies isn't free as we all know. It's fine to work on one or two volunteer projects for fun and to build interest and community but somewhere down the line it must be made sustainable. Otherwise the turnover rate of artists skyrockets. \\n My secondary concern is keeping this as open, transparent, and democratic as possible. Reddit's strength is in the hive, for better or worse, and I'd hate to relegate decisions to a few of us who happen to live in LA. From the get-go this needs to be a global initiative. So yeah, getting out of that SoCal bubble is key.\", content_len=126, id='c6asb7p', normalizedBody=\"I love this idea and most definitely want to help. I have a few concerns though. My primary concern is that of financing. Making movies isn't free as we all know. It's fine to work on one or two volunteer projects for fun and to build interest and community but somewhere down the line it must be made sustainable. Otherwise the turnover rate of artists skyrockets. \\n My secondary concern is keeping this as open, transparent, and democratic as possible. Reddit's strength is in the hive, for better or worse, and I'd hate to relegate decisions to a few of us who happen to live in LA. From the get-go this needs to be a global initiative. So yeah, getting out of that SoCal bubble is key. \\n TL;DR - How we make money? How we involve everyone, yo? \\n\", subreddit='RedditFilmsProduction', subreddit_id='t5_2v33h', summary='How we make money? How we involve everyone, yo?', summary_len=9, title=None),\n",
       " Row(_id=Row(oid='65e67ee9304d97fe1ebca539'), author='iamacannibal', body=\"Theres an entire small town under the lake by my house. I'll try and get up there soon to take pictures. the lake should be pretty empty right now. Usually is at the end of summer and before rainy season. It's actually pretty close to Shaver lake. Lake Kaweah in CA. I don't remember the story well but they either made the lake or made it bigger and the town had to be moved. didnt take down the buildings and once in a while you can see them sticking up a bit out of the water. I think the area use to just be a river. a decent part of the Central Valley use to be a lake because of all of the rivers flowing in. Shaver might be from this too. blocking off the rivers to dry up the valley. Not sure though. \\n this is what it use to be. Tulare Lake. Biggest lake on the west side of the Mississippi river. Now the valley is dried up but has some of the best soil for crops in the world. \\n\\nTL;DR: I'll try and get some similar shots from lake Kaweah next time I'm up there because there is an entire small town under the lake. \", content=\"Theres an entire small town under the lake by my house. I'll try and get up there soon to take pictures. the lake should be pretty empty right now. Usually is at the end of summer and before rainy season. It's actually pretty close to Shaver lake. Lake Kaweah in CA. I don't remember the story well but they either made the lake or made it bigger and the town had to be moved. didnt take down the buildings and once in a while you can see them sticking up a bit out of the water. I think the area use to just be a river. a decent part of the Central Valley use to be a lake because of all of the rivers flowing in. Shaver might be from this too. blocking off the rivers to dry up the valley. Not sure though. \\n this is what it use to be. Tulare Lake. Biggest lake on the west side of the Mississippi river. Now the valley is dried up but has some of the best soil for crops in the world.\", content_len=181, id='c6aveyw', normalizedBody=\"Theres an entire small town under the lake by my house. I'll try and get up there soon to take pictures. the lake should be pretty empty right now. Usually is at the end of summer and before rainy season. It's actually pretty close to Shaver lake. Lake Kaweah in CA. I don't remember the story well but they either made the lake or made it bigger and the town had to be moved. didnt take down the buildings and once in a while you can see them sticking up a bit out of the water. I think the area use to just be a river. a decent part of the Central Valley use to be a lake because of all of the rivers flowing in. Shaver might be from this too. blocking off the rivers to dry up the valley. Not sure though. \\n this is what it use to be. Tulare Lake. Biggest lake on the west side of the Mississippi river. Now the valley is dried up but has some of the best soil for crops in the world. \\n TL;DR: I'll try and get some similar shots from lake Kaweah next time I'm up there because there is an entire small town under the lake. \\n\", subreddit='AbandonedPorn', subreddit_id='t5_2sh6t', summary=\"I'll try and get some similar shots from lake Kaweah next time I'm up there because there is an entire small town under the lake.\", summary_len=25, title=None),\n",
       " Row(_id=Row(oid='65e67ee9304d97fe1ebca53a'), author='splagaticusxoxo97', body='FALSE. Evidence: Wolfman is a man with hair all over his face due to a gentic disorder. Wolfboy is a boy all over his face due to the same disorder, and guess the fuck what man WOLFBOY IS WOLFMANS SON AND THE GENE WAS PASSED DOWN, AND IT WILL SPREAD UNTIL WE BECOME A POPULATION OF WOLFPEOPLE, AND BEING A GINGER WOLF WILL BE COOL, BECAUSE LETS FACE IT IF YOU SAW A RED FUCKIN TIMBERWOLF YOU WOULD THINK THATS COLL AS SHIT. WHEN YOU SEE THAT SHIT, You\\'d probably think \"EHHHH GET ME OUT OF HERE GUYS THATS A RED FUCKIN TIMBER WOLF, EITHER IT WAS BORN WITH RED HAIR, OR THATS THE BLOOD OF ALL ITS VICTIMS STAINED INTO ITS COAT!\"                                                                                                   \\n**~~TL;DR dont fuck with red timber wolves\\n', content='FALSE. Evidence: Wolfman is a man with hair all over his face due to a gentic disorder. Wolfboy is a boy all over his face due to the same disorder, and guess the fuck what man WOLFBOY IS WOLFMANS SON AND THE GENE WAS PASSED DOWN, AND IT WILL SPREAD UNTIL WE BECOME A POPULATION OF WOLFPEOPLE, AND BEING A GINGER WOLF WILL BE COOL, BECAUSE LETS FACE IT IF YOU SAW A RED FUCKIN TIMBERWOLF YOU WOULD THINK THATS COLL AS SHIT. WHEN YOU SEE THAT SHIT, You\\'d probably think \"EHHHH GET ME OUT OF HERE GUYS THATS A RED FUCKIN TIMBER WOLF, EITHER IT WAS BORN WITH RED HAIR, OR THATS THE BLOOD OF ALL ITS VICTIMS STAINED INTO ITS COAT!\" \\n**~~', content_len=124, id='c6bacqq', normalizedBody='FALSE. Evidence: Wolfman is a man with hair all over his face due to a gentic disorder. Wolfboy is a boy all over his face due to the same disorder, and guess the fuck what man WOLFBOY IS WOLFMANS SON AND THE GENE WAS PASSED DOWN, AND IT WILL SPREAD UNTIL WE BECOME A POPULATION OF WOLFPEOPLE, AND BEING A GINGER WOLF WILL BE COOL, BECAUSE LETS FACE IT IF YOU SAW A RED FUCKIN TIMBERWOLF YOU WOULD THINK THATS COLL AS SHIT. WHEN YOU SEE THAT SHIT, You\\'d probably think \"EHHHH GET ME OUT OF HERE GUYS THATS A RED FUCKIN TIMBER WOLF, EITHER IT WAS BORN WITH RED HAIR, OR THATS THE BLOOD OF ALL ITS VICTIMS STAINED INTO ITS COAT!\" \\n**~~TL;DR dont fuck with red timber wolves \\n', subreddit='atheism', subreddit_id='t5_2qh2p', summary='dont fuck with red timber wolves', summary_len=6, title=None),\n",
       " Row(_id=Row(oid='65e67ee9304d97fe1ebca53b'), author='orthzar', body='If the number of sides of any circle =&gt; 4, then yes.\\n\\ntldr no', content='If the number of sides of any circle => 4, then yes.', content_len=12, id='c6b83kp', normalizedBody='If the number of sides of any circle => 4, then yes. \\n tldr no \\n', subreddit='quotes', subreddit_id='t5_2qhdx', summary='no', summary_len=1, title=None)]"
      ]
     },
     "execution_count": 4,
     "metadata": {},
     "output_type": "execute_result"
    }
   ],
   "source": [
    "# reddit_rdd.take(10)"
   ]
  },
  {
   "cell_type": "code",
   "execution_count": 7,
   "id": "b7038014-c145-458a-a994-b0085e3827ce",
   "metadata": {
    "scrolled": true
   },
   "outputs": [
    {
     "data": {
      "text/plain": [
       "Row(normalizedBody='Art is about the hardest thing to categorize in terms of good and bad. To consider one work or artist as dominate over another comes down to personal opinion. Sure some things maybe blatantly better than other works, but it ultimately lies with the individual. I personally enjoy the work of \"street artists\" (using quotations not to be sarcastic, but mainly because this is in a different category than graffiti and since my background is not in art I don\\'t know what the \"proper\" term is , if there is one), but I do see where you are coming from. CLET tends to use the same images continuously (to a point where one could say \"Is this it?\") as do most street artists (I do think this term is thrown around a lot more than it should be, I agree with you there) and it can be annoying. \\n tl;dr: Personal opinions \\'n shit. \\n')"
      ]
     },
     "execution_count": 7,
     "metadata": {},
     "output_type": "execute_result"
    }
   ],
   "source": []
  },
  {
   "cell_type": "code",
   "execution_count": 3,
   "id": "45606d11-7387-43c6-be53-8822152850ab",
   "metadata": {
    "scrolled": true,
    "tags": []
   },
   "outputs": [
    {
     "name": "stdout",
     "output_type": "stream",
     "text": [
      "Requirement already satisfied: better-profanity in /opt/conda/lib/python3.10/site-packages (0.7.0)\n"
     ]
    }
   ],
   "source": [
    "!pip install better-profanity"
   ]
  },
  {
   "cell_type": "code",
   "execution_count": 6,
   "id": "6f7c229d-f1e4-4f08-ae8b-e7ff3143c5d4",
   "metadata": {},
   "outputs": [
    {
     "ename": "NameError",
     "evalue": "name 'col' is not defined",
     "output_type": "error",
     "traceback": [
      "\u001b[0;31m---------------------------------------------------------------------------\u001b[0m",
      "\u001b[0;31mNameError\u001b[0m                                 Traceback (most recent call last)",
      "Cell \u001b[0;32mIn[6], line 2\u001b[0m\n\u001b[1;32m      1\u001b[0m \u001b[38;5;28;01mfrom\u001b[39;00m \u001b[38;5;21;01mbetter_profanity\u001b[39;00m \u001b[38;5;28;01mimport\u001b[39;00m profanity\n\u001b[0;32m----> 2\u001b[0m normalized_rdd \u001b[38;5;241m=\u001b[39m df\u001b[38;5;241m.\u001b[39mselect(\u001b[43mcol\u001b[49m(\u001b[38;5;124m\"\u001b[39m\u001b[38;5;124mnormalizedBody\u001b[39m\u001b[38;5;124m\"\u001b[39m))\u001b[38;5;241m.\u001b[39mrdd\n\u001b[1;32m      5\u001b[0m profanity\u001b[38;5;241m.\u001b[39mload_censor_words()\n\u001b[1;32m      7\u001b[0m censored_normalized_rdd \u001b[38;5;241m=\u001b[39m normalized_rdd\u001b[38;5;241m.\u001b[39mmap(\u001b[38;5;28;01mlambda\u001b[39;00m x: profanity\u001b[38;5;241m.\u001b[39mcensor(x))\n",
      "\u001b[0;31mNameError\u001b[0m: name 'col' is not defined"
     ]
    }
   ],
   "source": [
    "\n",
    "# from better_profanity import profanity\n",
    "# normalized_rdd = df.select(col(\"normalizedBody\")).rdd\n",
    "\n",
    "\n",
    "# profanity.load_censor_words()\n",
    "\n",
    "# censored_normalized_rdd = normalized_rdd.map(lambda x: profanity.censor(x))"
   ]
  },
  {
   "cell_type": "code",
   "execution_count": 12,
   "id": "d41f3118-a6b4-4084-8a4b-3eea3857898d",
   "metadata": {},
   "outputs": [
    {
     "data": {
      "text/plain": [
       "['Row(normalizedBody=\\'Art is about the hardest thing to categorize in terms of good and bad. To consider one work or artist as dominate over another comes down to personal opinion. Sure some things maybe blatantly better than other works, but it ultimately lies with the individual. I personally enjoy the work of \"street artists\" (using quotations not to be sarcastic, but mainly because this is in a different category than graffiti and since my background is not in art I don\\\\\\'t know what the \"proper\" term is , if there is one), but I do see where you are coming from. CLET tends to use the same images continuously (to a point where one could say \"Is this it?\") as do most street artists (I do think this term is thrown around a lot more than it should be, I agree with you there) and it can be annoying. \\\\n tl;dr: Personal opinions \\\\\\'n ****. \\\\n\\')']"
      ]
     },
     "execution_count": 12,
     "metadata": {},
     "output_type": "execute_result"
    }
   ],
   "source": [
    "# censored_normalized_rdd.take(1)"
   ]
  },
  {
   "cell_type": "code",
   "execution_count": 4,
   "id": "e5929ea5-3da2-4364-960c-25cc6bb42bb1",
   "metadata": {
    "scrolled": true,
    "tags": []
   },
   "outputs": [],
   "source": [
    "from pyspark.sql.functions import col\n",
    "from better_profanity import profanity\n",
    "profanity.load_censor_words()\n",
    "\n",
    "reddit_tuple = df.select(col(\"subreddit\"), col(\"normalizedBody\")).rdd.map(lambda x: (x[0], x[1]))\n",
    "# reddit_tuple.take(3)"
   ]
  },
  {
   "cell_type": "code",
   "execution_count": 5,
   "id": "d6705354-7265-43e5-9b7b-732e4f663b44",
   "metadata": {
    "scrolled": true,
    "tags": []
   },
   "outputs": [],
   "source": [
    "censored_tupple = reddit_tuple.map(lambda x: (x[0],profanity.censor(x[1])))\n",
    "# censored_tupple.take(10)"
   ]
  },
  {
   "cell_type": "code",
   "execution_count": 7,
   "id": "f080669e-6ca9-4910-b2f3-7386b7adc5f6",
   "metadata": {
    "scrolled": true,
    "tags": []
   },
   "outputs": [],
   "source": [
    "count_of_stars = censored_tupple.map(lambda x: (x[0], x[1], x[1].count(\"****\")))\n",
    "# count_of_stars.take(10)"
   ]
  },
  {
   "cell_type": "code",
   "execution_count": 15,
   "id": "f96c553d-23f9-43a1-ba25-4706d8a7734f",
   "metadata": {
    "scrolled": true
   },
   "outputs": [],
   "source": [
    "\n",
    "# count_of_stars.take(10)\n",
    "# count_of_stars_limited = spark.sparkContext.parallelize(count_of_stars.take(100))"
   ]
  },
  {
   "cell_type": "code",
   "execution_count": 10,
   "id": "3017f48c-04d0-41cc-acf1-b5ba1241ecbc",
   "metadata": {
    "scrolled": true,
    "tags": []
   },
   "outputs": [
    {
     "name": "stderr",
     "output_type": "stream",
     "text": [
      "ERROR:root:KeyboardInterrupt while sending command.\n",
      "Traceback (most recent call last):\n",
      "  File \"/usr/local/spark/python/lib/py4j-0.10.9.5-src.zip/py4j/java_gateway.py\", line 1038, in send_command\n",
      "    response = connection.send_command(command)\n",
      "  File \"/usr/local/spark/python/lib/py4j-0.10.9.5-src.zip/py4j/clientserver.py\", line 511, in send_command\n",
      "    answer = smart_decode(self.stream.readline()[:-1])\n",
      "  File \"/opt/conda/lib/python3.10/socket.py\", line 705, in readinto\n",
      "    return self._sock.recv_into(b)\n",
      "KeyboardInterrupt\n"
     ]
    },
    {
     "ename": "KeyboardInterrupt",
     "evalue": "",
     "output_type": "error",
     "traceback": [
      "\u001b[0;31m---------------------------------------------------------------------------\u001b[0m",
      "\u001b[0;31mKeyboardInterrupt\u001b[0m                         Traceback (most recent call last)",
      "Cell \u001b[0;32mIn[10], line 5\u001b[0m\n\u001b[1;32m      3\u001b[0m count_of_stars_limited \u001b[38;5;241m=\u001b[39m count_of_stars\n\u001b[1;32m      4\u001b[0m subreddits_count \u001b[38;5;241m=\u001b[39m count_of_stars_limited\u001b[38;5;241m.\u001b[39mmap(\u001b[38;5;28;01mlambda\u001b[39;00m x: (x[\u001b[38;5;241m0\u001b[39m], x[\u001b[38;5;241m2\u001b[39m]))\n\u001b[0;32m----> 5\u001b[0m reduced_count \u001b[38;5;241m=\u001b[39m \u001b[43msubreddits_count\u001b[49m\u001b[38;5;241;43m.\u001b[39;49m\u001b[43mreduceByKey\u001b[49m\u001b[43m(\u001b[49m\u001b[43madd\u001b[49m\u001b[43m)\u001b[49m\u001b[38;5;241;43m.\u001b[39;49m\u001b[43msortBy\u001b[49m\u001b[43m(\u001b[49m\u001b[38;5;28;43;01mlambda\u001b[39;49;00m\u001b[43m \u001b[49m\u001b[43mx\u001b[49m\u001b[43m:\u001b[49m\u001b[43m \u001b[49m\u001b[43mx\u001b[49m\u001b[43m[\u001b[49m\u001b[38;5;241;43m1\u001b[39;49m\u001b[43m]\u001b[49m\u001b[43m,\u001b[49m\u001b[43m \u001b[49m\u001b[43mascending\u001b[49m\u001b[38;5;241;43m=\u001b[39;49m\u001b[38;5;28;43;01mFalse\u001b[39;49;00m\u001b[43m)\u001b[49m\n",
      "File \u001b[0;32m/usr/local/spark/python/pyspark/rdd.py:1038\u001b[0m, in \u001b[0;36mRDD.sortBy\u001b[0;34m(self, keyfunc, ascending, numPartitions)\u001b[0m\n\u001b[1;32m   1019\u001b[0m \u001b[38;5;28;01mdef\u001b[39;00m \u001b[38;5;21msortBy\u001b[39m(\n\u001b[1;32m   1020\u001b[0m     \u001b[38;5;28mself\u001b[39m: \u001b[38;5;124m\"\u001b[39m\u001b[38;5;124mRDD[T]\u001b[39m\u001b[38;5;124m\"\u001b[39m,\n\u001b[1;32m   1021\u001b[0m     keyfunc: Callable[[T], \u001b[38;5;124m\"\u001b[39m\u001b[38;5;124mS\u001b[39m\u001b[38;5;124m\"\u001b[39m],\n\u001b[1;32m   1022\u001b[0m     ascending: \u001b[38;5;28mbool\u001b[39m \u001b[38;5;241m=\u001b[39m \u001b[38;5;28;01mTrue\u001b[39;00m,\n\u001b[1;32m   1023\u001b[0m     numPartitions: Optional[\u001b[38;5;28mint\u001b[39m] \u001b[38;5;241m=\u001b[39m \u001b[38;5;28;01mNone\u001b[39;00m,\n\u001b[1;32m   1024\u001b[0m ) \u001b[38;5;241m-\u001b[39m\u001b[38;5;241m>\u001b[39m \u001b[38;5;124m\"\u001b[39m\u001b[38;5;124mRDD[T]\u001b[39m\u001b[38;5;124m\"\u001b[39m:\n\u001b[1;32m   1025\u001b[0m \u001b[38;5;250m    \u001b[39m\u001b[38;5;124;03m\"\"\"\u001b[39;00m\n\u001b[1;32m   1026\u001b[0m \u001b[38;5;124;03m    Sorts this RDD by the given keyfunc\u001b[39;00m\n\u001b[1;32m   1027\u001b[0m \n\u001b[0;32m   (...)\u001b[0m\n\u001b[1;32m   1034\u001b[0m \u001b[38;5;124;03m    [('a', 1), ('b', 2), ('1', 3), ('d', 4), ('2', 5)]\u001b[39;00m\n\u001b[1;32m   1035\u001b[0m \u001b[38;5;124;03m    \"\"\"\u001b[39;00m\n\u001b[1;32m   1036\u001b[0m     \u001b[38;5;28;01mreturn\u001b[39;00m (\n\u001b[1;32m   1037\u001b[0m         \u001b[38;5;28;43mself\u001b[39;49m\u001b[38;5;241;43m.\u001b[39;49m\u001b[43mkeyBy\u001b[49m\u001b[43m(\u001b[49m\u001b[43mkeyfunc\u001b[49m\u001b[43m)\u001b[49m\u001b[43m  \u001b[49m\u001b[38;5;66;43;03m# type: ignore[type-var]\u001b[39;49;00m\n\u001b[0;32m-> 1038\u001b[0m \u001b[43m        \u001b[49m\u001b[38;5;241;43m.\u001b[39;49m\u001b[43msortByKey\u001b[49m\u001b[43m(\u001b[49m\u001b[43mascending\u001b[49m\u001b[43m,\u001b[49m\u001b[43m \u001b[49m\u001b[43mnumPartitions\u001b[49m\u001b[43m)\u001b[49m\n\u001b[1;32m   1039\u001b[0m         \u001b[38;5;241m.\u001b[39mvalues()\n\u001b[1;32m   1040\u001b[0m     )\n",
      "File \u001b[0;32m/usr/local/spark/python/pyspark/rdd.py:995\u001b[0m, in \u001b[0;36mRDD.sortByKey\u001b[0;34m(self, ascending, numPartitions, keyfunc)\u001b[0m\n\u001b[1;32m    990\u001b[0m     \u001b[38;5;28;01mreturn\u001b[39;00m \u001b[38;5;28mself\u001b[39m\u001b[38;5;241m.\u001b[39mmapPartitions(sortPartition, \u001b[38;5;28;01mTrue\u001b[39;00m)\n\u001b[1;32m    992\u001b[0m \u001b[38;5;66;03m# first compute the boundary of each part via sampling: we want to partition\u001b[39;00m\n\u001b[1;32m    993\u001b[0m \u001b[38;5;66;03m# the key-space into bins such that the bins have roughly the same\u001b[39;00m\n\u001b[1;32m    994\u001b[0m \u001b[38;5;66;03m# number of (key, value) pairs falling into them\u001b[39;00m\n\u001b[0;32m--> 995\u001b[0m rddSize \u001b[38;5;241m=\u001b[39m \u001b[38;5;28;43mself\u001b[39;49m\u001b[38;5;241;43m.\u001b[39;49m\u001b[43mcount\u001b[49m\u001b[43m(\u001b[49m\u001b[43m)\u001b[49m\n\u001b[1;32m    996\u001b[0m \u001b[38;5;28;01mif\u001b[39;00m \u001b[38;5;129;01mnot\u001b[39;00m rddSize:\n\u001b[1;32m    997\u001b[0m     \u001b[38;5;28;01mreturn\u001b[39;00m \u001b[38;5;28mself\u001b[39m  \u001b[38;5;66;03m# empty RDD\u001b[39;00m\n",
      "File \u001b[0;32m/usr/local/spark/python/pyspark/rdd.py:1521\u001b[0m, in \u001b[0;36mRDD.count\u001b[0;34m(self)\u001b[0m\n\u001b[1;32m   1512\u001b[0m \u001b[38;5;28;01mdef\u001b[39;00m \u001b[38;5;21mcount\u001b[39m(\u001b[38;5;28mself\u001b[39m) \u001b[38;5;241m-\u001b[39m\u001b[38;5;241m>\u001b[39m \u001b[38;5;28mint\u001b[39m:\n\u001b[1;32m   1513\u001b[0m \u001b[38;5;250m    \u001b[39m\u001b[38;5;124;03m\"\"\"\u001b[39;00m\n\u001b[1;32m   1514\u001b[0m \u001b[38;5;124;03m    Return the number of elements in this RDD.\u001b[39;00m\n\u001b[1;32m   1515\u001b[0m \n\u001b[0;32m   (...)\u001b[0m\n\u001b[1;32m   1519\u001b[0m \u001b[38;5;124;03m    3\u001b[39;00m\n\u001b[1;32m   1520\u001b[0m \u001b[38;5;124;03m    \"\"\"\u001b[39;00m\n\u001b[0;32m-> 1521\u001b[0m     \u001b[38;5;28;01mreturn\u001b[39;00m \u001b[38;5;28;43mself\u001b[39;49m\u001b[38;5;241;43m.\u001b[39;49m\u001b[43mmapPartitions\u001b[49m\u001b[43m(\u001b[49m\u001b[38;5;28;43;01mlambda\u001b[39;49;00m\u001b[43m \u001b[49m\u001b[43mi\u001b[49m\u001b[43m:\u001b[49m\u001b[43m \u001b[49m\u001b[43m[\u001b[49m\u001b[38;5;28;43msum\u001b[39;49m\u001b[43m(\u001b[49m\u001b[38;5;241;43m1\u001b[39;49m\u001b[43m \u001b[49m\u001b[38;5;28;43;01mfor\u001b[39;49;00m\u001b[43m \u001b[49m\u001b[43m_\u001b[49m\u001b[43m \u001b[49m\u001b[38;5;129;43;01min\u001b[39;49;00m\u001b[43m \u001b[49m\u001b[43mi\u001b[49m\u001b[43m)\u001b[49m\u001b[43m]\u001b[49m\u001b[43m)\u001b[49m\u001b[38;5;241;43m.\u001b[39;49m\u001b[43msum\u001b[49m\u001b[43m(\u001b[49m\u001b[43m)\u001b[49m\n",
      "File \u001b[0;32m/usr/local/spark/python/pyspark/rdd.py:1508\u001b[0m, in \u001b[0;36mRDD.sum\u001b[0;34m(self)\u001b[0m\n\u001b[1;32m   1499\u001b[0m \u001b[38;5;28;01mdef\u001b[39;00m \u001b[38;5;21msum\u001b[39m(\u001b[38;5;28mself\u001b[39m: \u001b[38;5;124m\"\u001b[39m\u001b[38;5;124mRDD[NumberOrArray]\u001b[39m\u001b[38;5;124m\"\u001b[39m) \u001b[38;5;241m-\u001b[39m\u001b[38;5;241m>\u001b[39m \u001b[38;5;124m\"\u001b[39m\u001b[38;5;124mNumberOrArray\u001b[39m\u001b[38;5;124m\"\u001b[39m:\n\u001b[1;32m   1500\u001b[0m \u001b[38;5;250m    \u001b[39m\u001b[38;5;124;03m\"\"\"\u001b[39;00m\n\u001b[1;32m   1501\u001b[0m \u001b[38;5;124;03m    Add up the elements in this RDD.\u001b[39;00m\n\u001b[1;32m   1502\u001b[0m \n\u001b[0;32m   (...)\u001b[0m\n\u001b[1;32m   1506\u001b[0m \u001b[38;5;124;03m    6.0\u001b[39;00m\n\u001b[1;32m   1507\u001b[0m \u001b[38;5;124;03m    \"\"\"\u001b[39;00m\n\u001b[0;32m-> 1508\u001b[0m     \u001b[38;5;28;01mreturn\u001b[39;00m \u001b[38;5;28;43mself\u001b[39;49m\u001b[38;5;241;43m.\u001b[39;49m\u001b[43mmapPartitions\u001b[49m\u001b[43m(\u001b[49m\u001b[38;5;28;43;01mlambda\u001b[39;49;00m\u001b[43m \u001b[49m\u001b[43mx\u001b[49m\u001b[43m:\u001b[49m\u001b[43m \u001b[49m\u001b[43m[\u001b[49m\u001b[38;5;28;43msum\u001b[39;49m\u001b[43m(\u001b[49m\u001b[43mx\u001b[49m\u001b[43m)\u001b[49m\u001b[43m]\u001b[49m\u001b[43m)\u001b[49m\u001b[38;5;241;43m.\u001b[39;49m\u001b[43mfold\u001b[49m\u001b[43m(\u001b[49m\u001b[43m  \u001b[49m\u001b[38;5;66;43;03m# type: ignore[return-value]\u001b[39;49;00m\n\u001b[1;32m   1509\u001b[0m \u001b[43m        \u001b[49m\u001b[38;5;241;43m0\u001b[39;49m\u001b[43m,\u001b[49m\u001b[43m \u001b[49m\u001b[43moperator\u001b[49m\u001b[38;5;241;43m.\u001b[39;49m\u001b[43madd\u001b[49m\n\u001b[1;32m   1510\u001b[0m \u001b[43m    \u001b[49m\u001b[43m)\u001b[49m\n",
      "File \u001b[0;32m/usr/local/spark/python/pyspark/rdd.py:1336\u001b[0m, in \u001b[0;36mRDD.fold\u001b[0;34m(self, zeroValue, op)\u001b[0m\n\u001b[1;32m   1331\u001b[0m     \u001b[38;5;28;01myield\u001b[39;00m acc\n\u001b[1;32m   1333\u001b[0m \u001b[38;5;66;03m# collecting result of mapPartitions here ensures that the copy of\u001b[39;00m\n\u001b[1;32m   1334\u001b[0m \u001b[38;5;66;03m# zeroValue provided to each partition is unique from the one provided\u001b[39;00m\n\u001b[1;32m   1335\u001b[0m \u001b[38;5;66;03m# to the final reduce call\u001b[39;00m\n\u001b[0;32m-> 1336\u001b[0m vals \u001b[38;5;241m=\u001b[39m \u001b[38;5;28;43mself\u001b[39;49m\u001b[38;5;241;43m.\u001b[39;49m\u001b[43mmapPartitions\u001b[49m\u001b[43m(\u001b[49m\u001b[43mfunc\u001b[49m\u001b[43m)\u001b[49m\u001b[38;5;241;43m.\u001b[39;49m\u001b[43mcollect\u001b[49m\u001b[43m(\u001b[49m\u001b[43m)\u001b[49m\n\u001b[1;32m   1337\u001b[0m \u001b[38;5;28;01mreturn\u001b[39;00m reduce(op, vals, zeroValue)\n",
      "File \u001b[0;32m/usr/local/spark/python/pyspark/rdd.py:1197\u001b[0m, in \u001b[0;36mRDD.collect\u001b[0;34m(self)\u001b[0m\n\u001b[1;32m   1195\u001b[0m \u001b[38;5;28;01mwith\u001b[39;00m SCCallSiteSync(\u001b[38;5;28mself\u001b[39m\u001b[38;5;241m.\u001b[39mcontext):\n\u001b[1;32m   1196\u001b[0m     \u001b[38;5;28;01massert\u001b[39;00m \u001b[38;5;28mself\u001b[39m\u001b[38;5;241m.\u001b[39mctx\u001b[38;5;241m.\u001b[39m_jvm \u001b[38;5;129;01mis\u001b[39;00m \u001b[38;5;129;01mnot\u001b[39;00m \u001b[38;5;28;01mNone\u001b[39;00m\n\u001b[0;32m-> 1197\u001b[0m     sock_info \u001b[38;5;241m=\u001b[39m \u001b[38;5;28;43mself\u001b[39;49m\u001b[38;5;241;43m.\u001b[39;49m\u001b[43mctx\u001b[49m\u001b[38;5;241;43m.\u001b[39;49m\u001b[43m_jvm\u001b[49m\u001b[38;5;241;43m.\u001b[39;49m\u001b[43mPythonRDD\u001b[49m\u001b[38;5;241;43m.\u001b[39;49m\u001b[43mcollectAndServe\u001b[49m\u001b[43m(\u001b[49m\u001b[38;5;28;43mself\u001b[39;49m\u001b[38;5;241;43m.\u001b[39;49m\u001b[43m_jrdd\u001b[49m\u001b[38;5;241;43m.\u001b[39;49m\u001b[43mrdd\u001b[49m\u001b[43m(\u001b[49m\u001b[43m)\u001b[49m\u001b[43m)\u001b[49m\n\u001b[1;32m   1198\u001b[0m \u001b[38;5;28;01mreturn\u001b[39;00m \u001b[38;5;28mlist\u001b[39m(_load_from_socket(sock_info, \u001b[38;5;28mself\u001b[39m\u001b[38;5;241m.\u001b[39m_jrdd_deserializer))\n",
      "File \u001b[0;32m/usr/local/spark/python/lib/py4j-0.10.9.5-src.zip/py4j/java_gateway.py:1320\u001b[0m, in \u001b[0;36mJavaMember.__call__\u001b[0;34m(self, *args)\u001b[0m\n\u001b[1;32m   1313\u001b[0m args_command, temp_args \u001b[38;5;241m=\u001b[39m \u001b[38;5;28mself\u001b[39m\u001b[38;5;241m.\u001b[39m_build_args(\u001b[38;5;241m*\u001b[39margs)\n\u001b[1;32m   1315\u001b[0m command \u001b[38;5;241m=\u001b[39m proto\u001b[38;5;241m.\u001b[39mCALL_COMMAND_NAME \u001b[38;5;241m+\u001b[39m\\\n\u001b[1;32m   1316\u001b[0m     \u001b[38;5;28mself\u001b[39m\u001b[38;5;241m.\u001b[39mcommand_header \u001b[38;5;241m+\u001b[39m\\\n\u001b[1;32m   1317\u001b[0m     args_command \u001b[38;5;241m+\u001b[39m\\\n\u001b[1;32m   1318\u001b[0m     proto\u001b[38;5;241m.\u001b[39mEND_COMMAND_PART\n\u001b[0;32m-> 1320\u001b[0m answer \u001b[38;5;241m=\u001b[39m \u001b[38;5;28;43mself\u001b[39;49m\u001b[38;5;241;43m.\u001b[39;49m\u001b[43mgateway_client\u001b[49m\u001b[38;5;241;43m.\u001b[39;49m\u001b[43msend_command\u001b[49m\u001b[43m(\u001b[49m\u001b[43mcommand\u001b[49m\u001b[43m)\u001b[49m\n\u001b[1;32m   1321\u001b[0m return_value \u001b[38;5;241m=\u001b[39m get_return_value(\n\u001b[1;32m   1322\u001b[0m     answer, \u001b[38;5;28mself\u001b[39m\u001b[38;5;241m.\u001b[39mgateway_client, \u001b[38;5;28mself\u001b[39m\u001b[38;5;241m.\u001b[39mtarget_id, \u001b[38;5;28mself\u001b[39m\u001b[38;5;241m.\u001b[39mname)\n\u001b[1;32m   1324\u001b[0m \u001b[38;5;28;01mfor\u001b[39;00m temp_arg \u001b[38;5;129;01min\u001b[39;00m temp_args:\n",
      "File \u001b[0;32m/usr/local/spark/python/lib/py4j-0.10.9.5-src.zip/py4j/java_gateway.py:1038\u001b[0m, in \u001b[0;36mGatewayClient.send_command\u001b[0;34m(self, command, retry, binary)\u001b[0m\n\u001b[1;32m   1036\u001b[0m connection \u001b[38;5;241m=\u001b[39m \u001b[38;5;28mself\u001b[39m\u001b[38;5;241m.\u001b[39m_get_connection()\n\u001b[1;32m   1037\u001b[0m \u001b[38;5;28;01mtry\u001b[39;00m:\n\u001b[0;32m-> 1038\u001b[0m     response \u001b[38;5;241m=\u001b[39m \u001b[43mconnection\u001b[49m\u001b[38;5;241;43m.\u001b[39;49m\u001b[43msend_command\u001b[49m\u001b[43m(\u001b[49m\u001b[43mcommand\u001b[49m\u001b[43m)\u001b[49m\n\u001b[1;32m   1039\u001b[0m     \u001b[38;5;28;01mif\u001b[39;00m binary:\n\u001b[1;32m   1040\u001b[0m         \u001b[38;5;28;01mreturn\u001b[39;00m response, \u001b[38;5;28mself\u001b[39m\u001b[38;5;241m.\u001b[39m_create_connection_guard(connection)\n",
      "File \u001b[0;32m/usr/local/spark/python/lib/py4j-0.10.9.5-src.zip/py4j/clientserver.py:511\u001b[0m, in \u001b[0;36mClientServerConnection.send_command\u001b[0;34m(self, command)\u001b[0m\n\u001b[1;32m    509\u001b[0m \u001b[38;5;28;01mtry\u001b[39;00m:\n\u001b[1;32m    510\u001b[0m     \u001b[38;5;28;01mwhile\u001b[39;00m \u001b[38;5;28;01mTrue\u001b[39;00m:\n\u001b[0;32m--> 511\u001b[0m         answer \u001b[38;5;241m=\u001b[39m smart_decode(\u001b[38;5;28;43mself\u001b[39;49m\u001b[38;5;241;43m.\u001b[39;49m\u001b[43mstream\u001b[49m\u001b[38;5;241;43m.\u001b[39;49m\u001b[43mreadline\u001b[49m\u001b[43m(\u001b[49m\u001b[43m)\u001b[49m[:\u001b[38;5;241m-\u001b[39m\u001b[38;5;241m1\u001b[39m])\n\u001b[1;32m    512\u001b[0m         logger\u001b[38;5;241m.\u001b[39mdebug(\u001b[38;5;124m\"\u001b[39m\u001b[38;5;124mAnswer received: \u001b[39m\u001b[38;5;132;01m{0}\u001b[39;00m\u001b[38;5;124m\"\u001b[39m\u001b[38;5;241m.\u001b[39mformat(answer))\n\u001b[1;32m    513\u001b[0m         \u001b[38;5;66;03m# Happens when a the other end is dead. There might be an empty\u001b[39;00m\n\u001b[1;32m    514\u001b[0m         \u001b[38;5;66;03m# answer before the socket raises an error.\u001b[39;00m\n",
      "File \u001b[0;32m/opt/conda/lib/python3.10/socket.py:705\u001b[0m, in \u001b[0;36mSocketIO.readinto\u001b[0;34m(self, b)\u001b[0m\n\u001b[1;32m    703\u001b[0m \u001b[38;5;28;01mwhile\u001b[39;00m \u001b[38;5;28;01mTrue\u001b[39;00m:\n\u001b[1;32m    704\u001b[0m     \u001b[38;5;28;01mtry\u001b[39;00m:\n\u001b[0;32m--> 705\u001b[0m         \u001b[38;5;28;01mreturn\u001b[39;00m \u001b[38;5;28;43mself\u001b[39;49m\u001b[38;5;241;43m.\u001b[39;49m\u001b[43m_sock\u001b[49m\u001b[38;5;241;43m.\u001b[39;49m\u001b[43mrecv_into\u001b[49m\u001b[43m(\u001b[49m\u001b[43mb\u001b[49m\u001b[43m)\u001b[49m\n\u001b[1;32m    706\u001b[0m     \u001b[38;5;28;01mexcept\u001b[39;00m timeout:\n\u001b[1;32m    707\u001b[0m         \u001b[38;5;28mself\u001b[39m\u001b[38;5;241m.\u001b[39m_timeout_occurred \u001b[38;5;241m=\u001b[39m \u001b[38;5;28;01mTrue\u001b[39;00m\n",
      "\u001b[0;31mKeyboardInterrupt\u001b[0m: "
     ]
    }
   ],
   "source": [
    "from operator import add\n",
    "# count_of_stars_limited = spark.sparkContext.parallelize(count_of_stars.take(100))\n",
    "count_of_stars_limited = count_of_stars\n",
    "subreddits_count = count_of_stars_limited.map(lambda x: (x[0], x[2]))\n",
    "reduced_count = subreddits_count.reduceByKey(add).sortBy(lambda x: x[1], ascending=False)\n"
   ]
  },
  {
   "cell_type": "code",
   "execution_count": 18,
   "id": "d0ad65db-0bb3-4aa2-a648-51aa8d1dff8c",
   "metadata": {},
   "outputs": [
    {
     "data": {
      "text/plain": [
       "[('AskReddit', 32),\n",
       " ('atheism', 16),\n",
       " ('technology', 9),\n",
       " ('WTF', 8),\n",
       " ('askseddit', 5)]"
      ]
     },
     "execution_count": 18,
     "metadata": {},
     "output_type": "execute_result"
    }
   ],
   "source": [
    "reduced_count.take(5)"
   ]
  },
  {
   "cell_type": "code",
   "execution_count": null,
   "id": "9c7708c9-89f6-439b-be2e-5b00ebe931cf",
   "metadata": {},
   "outputs": [],
   "source": []
  }
 ],
 "metadata": {
  "kernelspec": {
   "display_name": "Python 3 (ipykernel)",
   "language": "python",
   "name": "python3"
  },
  "language_info": {
   "codemirror_mode": {
    "name": "ipython",
    "version": 3
   },
   "file_extension": ".py",
   "mimetype": "text/x-python",
   "name": "python",
   "nbconvert_exporter": "python",
   "pygments_lexer": "ipython3",
   "version": "3.10.10"
  }
 },
 "nbformat": 4,
 "nbformat_minor": 5
}
