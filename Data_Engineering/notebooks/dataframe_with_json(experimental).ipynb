{
 "cells": [
  {
   "cell_type": "code",
   "execution_count": 9,
   "id": "b8af837d-230b-4c9d-b041-598fe3a43c97",
   "metadata": {},
   "outputs": [
    {
     "name": "stdout",
     "output_type": "stream",
     "text": [
      "Requirement already satisfied: better-profanity in /opt/conda/lib/python3.10/site-packages (0.7.0)\n"
     ]
    }
   ],
   "source": [
    "!pip install better-profanity"
   ]
  },
  {
   "cell_type": "code",
   "execution_count": null,
   "id": "2f480837-2753-4dcb-a113-9c60e1641cb3",
   "metadata": {},
   "outputs": [],
   "source": [
    "from pyspark.sql import SparkSession, SQLContext\n",
    "from pyspark import SparkConf, SparkContext\n",
    "from pyspark.sql.functions import col\n",
    "from better_profanity import profanity\n",
    "from operator import add\n",
    "\n",
    "# spark_session = SparkSession\\\n",
    "#         .builder\\\n",
    "#         .master(\"spark://sparkmaster:7077\") \\\n",
    "#         .appName(\"test\")\\\n",
    "#         .config(\"spark.dynamicAllocation.enabled\", True)\\\n",
    "#         .config(\"spark.dynamicAllocation.shuffleTracking.enabled\",True)\\\n",
    "#         .config(\"spark.shuffle.service.enabled\", False)\\\n",
    "#         .config(\"spark.dynamicAllocation.executorIdleTimeout\",\"30s\")\\\n",
    "#         .config(\"spark.executor.cores\",2)\\\n",
    "#         .config(\"spark.driver.port\",9999)\\\n",
    "#         .config(\"spark.blockManager.port\",10005)\\\n",
    "#         .getOrCreate()\n",
    "# spark_context = spark_session.sparkContext\n",
    "\n",
    "spark = SparkSession.builder \\\n",
    "    .appName(\"MongoDB Integration\") \\\n",
    "    .master(\"spark://sparkmaster:7077\") \\\n",
    "    .config(\"spark.dynamicAllocation.enabled\", True)\\\n",
    "    .config(\"spark.dynamicAllocation.shuffleTracking.enabled\",True)\\\n",
    "    .config(\"spark.shuffle.service.enabled\", False)\\\n",
    "    .config(\"spark.dynamicAllocation.executorIdleTimeout\",\"30s\")\\\n",
    "    .getOrCreate()\n",
    "\n",
    "df = spark.read.json('/data/corpus.json')"
   ]
  },
  {
   "cell_type": "code",
   "execution_count": null,
   "id": "a3aadce1-9f7d-4889-89df-2dff7344b9c2",
   "metadata": {},
   "outputs": [],
   "source": [
    "profanity.load_censor_words()"
   ]
  },
  {
   "cell_type": "code",
   "execution_count": null,
   "id": "f45ae73d-8124-4616-8ae7-b37c2780139a",
   "metadata": {},
   "outputs": [],
   "source": [
    "from pyspark.sql import functions, Column\n",
    "\n",
    "df2 = df.select(col(\"subreddit\"), col(\"normalizedBody\")).limit(100000)\n",
    "def profanity_udf(text):\n",
    "    cleaned = profanity.censor(text)\n",
    "    return cleaned.count(\"****\") \n",
    "\n",
    "prof_udf = functions.udf(profanity_udf)\n",
    "\n",
    "df3 = df2.withColumn('pgRated', prof_udf(col('normalizedBody')))\n",
    "\n",
    "\n",
    "subreddit_count = df3.groupBy(\"subreddit\").agg({\"pgRated\": \"sum\"}).withColumnRenamed(\"sum(pgRated)\", \"total_censored\")\n",
    "final_count = subreddit_count.orderBy(subreddit_count.total_censored.desc())\n",
    "\n"
   ]
  },
  {
   "cell_type": "code",
   "execution_count": null,
   "id": "aa298b4b-19b1-4969-a5cb-ce3ec38ba9fb",
   "metadata": {
    "tags": []
   },
   "outputs": [],
   "source": [
    "final_count.show(10)"
   ]
  },
  {
   "cell_type": "code",
   "execution_count": null,
   "id": "123365d6-ca66-44a0-bdf8-2464dc6d03b9",
   "metadata": {
    "tags": []
   },
   "outputs": [],
   "source": [
    "spark.stop()"
   ]
  }
 ],
 "metadata": {
  "kernelspec": {
   "display_name": "Python 3 (ipykernel)",
   "language": "python",
   "name": "python3"
  },
  "language_info": {
   "codemirror_mode": {
    "name": "ipython",
    "version": 3
   },
   "file_extension": ".py",
   "mimetype": "text/x-python",
   "name": "python",
   "nbconvert_exporter": "python",
   "pygments_lexer": "ipython3",
   "version": "3.10.10"
  }
 },
 "nbformat": 4,
 "nbformat_minor": 5
}
